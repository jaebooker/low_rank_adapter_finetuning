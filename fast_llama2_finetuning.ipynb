{
  "nbformat": 4,
  "nbformat_minor": 0,
  "metadata": {
    "colab": {
      "provenance": [],
      "authorship_tag": "ABX9TyOuChADBuD8C1D8BvN7jfks"
    },
    "kernelspec": {
      "name": "python3",
      "display_name": "Python 3"
    },
    "language_info": {
      "name": "python"
    }
  },
  "cells": [
    {
      "cell_type": "code",
      "execution_count": null,
      "metadata": {
        "id": "XZ73jFkKzmv3"
      },
      "outputs": [],
      "source": [
        "#install trl\n",
        "! pip install trl\n",
        "# clone the repo for the script\n",
        "git clone https://github.com/lvwerra/trl\n",
        "\n",
        "# start training !\n",
        "python trl/examples/scripts/sft_trainer.py \\\n",
        "  -- model_name meta-llama/Llama-2-7b-hf \\\n",
        "  --dataset_name timdettmers/openassistant-guanaco \\\n",
        "  --use_peft \\\n",
        "  --batch_size 4 \\\n",
        "  --gradient_accumulation_steps 2"
      ]
    }
  ]
}