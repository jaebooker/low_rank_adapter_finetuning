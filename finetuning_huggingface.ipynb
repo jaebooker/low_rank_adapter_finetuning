{
  "nbformat": 4,
  "nbformat_minor": 0,
  "metadata": {
    "colab": {
      "provenance": [],
      "authorship_tag": "ABX9TyMCMYiZqXf7D0HuHW9/Pq1L",
      "include_colab_link": true
    },
    "kernelspec": {
      "name": "python3",
      "display_name": "Python 3"
    },
    "language_info": {
      "name": "python"
    }
  },
  "cells": [
    {
      "cell_type": "markdown",
      "metadata": {
        "id": "view-in-github",
        "colab_type": "text"
      },
      "source": [
        "<a href=\"https://colab.research.google.com/github/jaebooker/model_finetuning/blob/main/finetuning_huggingface.ipynb\" target=\"_parent\"><img src=\"https://colab.research.google.com/assets/colab-badge.svg\" alt=\"Open In Colab\"/></a>"
      ]
    },
    {
      "cell_type": "code",
      "execution_count": null,
      "metadata": {
        "id": "l_VwwvrA787r"
      },
      "outputs": [],
      "source": [
        "from transformers import DistilBertTokenizer, DistilBertForSequenceClassification\n",
        "\n",
        "# Load the pre-trained tokenizer\n",
        "tokenizer = DistilBertTokenizer.from_pretrained('distilbert-base-uncased')\n",
        "\n",
        "# Load the pre-trained model for sequence classification\n",
        "model = DistilBertForSequenceClassification.from_pretrained('distilbert-base-uncased')"
      ]
    },
    {
      "cell_type": "code",
      "source": [
        "texts = [\"Water is love. Water is life.\",\n",
        "         \"Water is the wound of this world.\",\n",
        "         \"All is water.\"]\n",
        "sentiments = [\"positive\", \"negative\", \"neutral\"]"
      ],
      "metadata": {
        "id": "r7vB2__I8LyV"
      },
      "execution_count": 2,
      "outputs": []
    },
    {
      "cell_type": "code",
      "source": [
        "# Tokenize the text samples\n",
        "encoded_texts = tokenizer(texts, padding=True, truncation=True, return_tensors='pt')\n",
        "\n",
        "# Extract the input IDs and attention masks\n",
        "input_ids = encoded_texts['input_ids']\n",
        "attention_mask = encoded_texts['attention_mask']\n",
        "\n",
        "# Convert the sentiment labels to numerical form\n",
        "sentiment_labels = [sentiments.index(sentiment) for sentiment in sentiments]"
      ],
      "metadata": {
        "id": "RfzkLRyx8qBI"
      },
      "execution_count": 3,
      "outputs": []
    },
    {
      "cell_type": "code",
      "source": [
        "import torch.nn as nn\n",
        "\n",
        "# Add a custom classification head on top of the pre-trained model\n",
        "num_classes = len(set(sentiment_labels))\n",
        "classification_head = nn.Linear(model.config.hidden_size, num_classes)\n",
        "\n",
        "# Replace the pre-trained model's classification head with our custom head\n",
        "model.classifier = classification_head"
      ],
      "metadata": {
        "id": "xQyxz6T89rnv"
      },
      "execution_count": 4,
      "outputs": []
    },
    {
      "cell_type": "code",
      "source": [
        "import torch.optim as optim\n",
        "\n",
        "# Define the optimizer and loss function\n",
        "optimizer = optim.AdamW(model.parameters(), lr=2e-5)\n",
        "criterion = nn.CrossEntropyLoss()\n",
        "\n",
        "# Fine-tune the model\n",
        "num_epochs = 3\n",
        "for epoch in range(num_epochs):\n",
        "    optimizer.zero_grad()\n",
        "    outputs = model(input_ids, attention_mask=attention_mask, labels=torch.tensor(sentiment_labels))\n",
        "    loss = outputs.loss\n",
        "    loss.backward()\n",
        "    optimizer.step()"
      ],
      "metadata": {
        "id": "Zzg3snT59zBp"
      },
      "execution_count": null,
      "outputs": []
    }
  ]
}